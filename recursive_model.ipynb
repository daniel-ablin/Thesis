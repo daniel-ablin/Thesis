{
 "cells": [
  {
   "cell_type": "code",
   "execution_count": 1,
   "metadata": {},
   "outputs": [],
   "source": [
    "import numpy as np"
   ]
  },
  {
   "cell_type": "code",
   "execution_count": 2,
   "metadata": {},
   "outputs": [],
   "source": [
    "class model(object):\n",
    "    def __init__(self, x0, t, v, A):\n",
    "        self.x0 = x0\n",
    "        self.t = t\n",
    "        self.v = v\n",
    "        self.A = A\n",
    "        self.rates = np.zeros((t+1, x0.shape[0]))\n",
    "        self.grad = np.zeros((t+1, A.shape[0], A.shape[1]))\n",
    "    '''        \n",
    "    def rec_grad_ii(self, c_rate, t, v, A, i):\n",
    "        j = 1-i\n",
    "        if t == 0:\n",
    "            grad = c_rate[0, i]\n",
    "        else:\n",
    "            a = rec_grad_ii(c_rate, t-1, v, A, i) * (1 + A[i,i]*v[i]**2 *(1 - 2*c_rate[t,i]) - A[i,j]*v[i]*v[j]*c_rate[t,j])\n",
    "            b = rec_grad_ij(c_rate, t-1, v, A, j) * A[i,j]*v[i]*v[j](1-c_rate[t,i])\n",
    "            c = 2*A[i,j]*v[i]c_rate[t,i] - 2*A[i,i]*v[i]*c_rate[t,i]**2 + A[i,j]*v[j]*c_rate[t,j] - A[i,j]*v[j]*c_rate[t,i]*c_rate[t,j]\n",
    "            grad = a+b+c\n",
    "        self.grad[t,i,]\n",
    "        return grad\n",
    "\n",
    "    def rec_graf_ij(self ,c_rate, t, v, A, i):\n",
    "        if t == 0:\n",
    "            return c_rate[0, i]\n",
    "        j = 1-i\n",
    "        a = rec_grad_ij(c_rate, t-1, v, A, i) * (1 + A[i,i]*v[i]**2 *(1 - 2*c_rate[t,i]) - A[i,j]*v[i]*v[j]*c_rate[t,j])\n",
    "        b = rec_grad_ii(c_rate, t-1, v, A, j)*A[i,j]*v[i]*v[j](1-c_rate[t,i])\n",
    "        c = A[i,j]*v[i]c_rate[t,i] - A[i,j]*v[i]*c_rate[t,i]*c_rate[t,j]\n",
    "        grad = a+b+c\n",
    "        return grad\n",
    "    '''    \n",
    "    def calc_grad(self, t):\n",
    "        A = self.A\n",
    "        v = self.v\n",
    "        x = self.rates[t,:]\n",
    "        pre_grad = self.grad[t-1,:,:]\n",
    "        for i in range(A.shape[0]):\n",
    "            j = 1-i\n",
    "            a = pre_grad[i,i] * (1 + A[i,i]*v[i]**2 *(1 - 2*x[i]) - A[i,j]*v[i]*v[j]*x[j])\n",
    "            b = pre_grad[i,j] * A[i,j]*v[i]*v[j]*(1-x[i])\n",
    "            c = 2*A[i,j]*v[i]*x[i] - 2*A[i,i]*v[i]*x[i]**2 + A[i,j]*v[j]*x[j] - A[i,j]*v[j]*x[i]*x[j]\n",
    "            self.grad[t, i, i] = a+b+c\n",
    "            a = pre_grad[i,j] * (1 + A[i,i]*v[i]**2 *(1 - 2*x[i]) - A[i,j]*v[i]*v[j]*x[j])\n",
    "            b = pre_grad[i,i]*A[i,j]*v[i]*v[j]*(1-x[i])\n",
    "            c = A[i,j]*v[i]*x[i] - A[i,j]*v[i]*x[i]*x[j]\n",
    "            self.grad[t, i, j] = a+b+c\n",
    "        \n",
    "    def iterate(self):\n",
    "        self.rates[0,:] = self.x0\n",
    "        self.grad[0,:,:] = 0\n",
    "        for i in range(1,t+1):\n",
    "            self.rates[i,:] = self.rates[i-1,:] + self.v*(1-self.rates[i-1,:])*(np.sum(self.A*self.v*self.rates[i-1,:], axis=1))\n",
    "            self.calc_grad(i)\n",
    "    \n",
    "        "
   ]
  },
  {
   "cell_type": "code",
   "execution_count": 11,
   "metadata": {},
   "outputs": [],
   "source": [
    "def contagion_rate(x0, t, v, A):\n",
    "    rates = np.zeros((t+1, x0.shape[0]))\n",
    "    rates[0,:] = x0\n",
    "    for i in range(1,t+1):\n",
    "        rates[i,:] = rates[i-1,:] + v*(1-rates[i-1,:])*(np.sum(A*v*rates[i-1,:], axis=1))\n",
    "    return rates"
   ]
  },
  {
   "cell_type": "code",
   "execution_count": 3,
   "metadata": {},
   "outputs": [],
   "source": [
    "x0 = np.array([0.001,0.001])\n",
    "t = 300\n",
    "v = np.array([0.3,0.4])\n",
    "A = np.array([[0.1,0.2],[0.3,0.1]])\n",
    "#temp = contagion_rate(x0, t, v, A)"
   ]
  },
  {
   "cell_type": "code",
   "execution_count": 4,
   "metadata": {},
   "outputs": [],
   "source": [
    "model = model(x0,t,v,A)"
   ]
  },
  {
   "cell_type": "code",
   "execution_count": 5,
   "metadata": {},
   "outputs": [],
   "source": [
    "model.iterate()"
   ]
  },
  {
   "cell_type": "code",
   "execution_count": 7,
   "metadata": {},
   "outputs": [
    {
     "data": {
      "text/plain": [
       "array([[2.10364418, 0.22320465],\n",
       "       [0.15337348, 3.22239665]])"
      ]
     },
     "execution_count": 7,
     "metadata": {},
     "output_type": "execute_result"
    }
   ],
   "source": [
    "model.grad[300]"
   ]
  },
  {
   "cell_type": "code",
   "execution_count": null,
   "metadata": {},
   "outputs": [],
   "source": [
    "def grad_ii(c_rate, t, v, A, i):\n",
    "    if t == 0:\n",
    "        return c_rate[0, i]\n",
    "    j = 1-i\n",
    "    a = grad_ii(c_rate, t-1, v, A, i) * (1 + A[i,i]*v[i]**2 *(1 - 2*c_rate[t,i]) - A[i,j]*v[i]*v[j]*c_rate[t,j])\n",
    "    b = grad_ij(c_rate, t-1, v, A, j) * A[i,j]*v[i]*v[j](1-c_rate[t,i])\n",
    "    c = 2*A[i,j]*v[i]c_rate[t,i] - 2*A[i,i]*v[i]*c_rate[t,i]**2 + A[i,j]*v[j]*c_rate[t,j] - A[i,j]*v[j]*c_rate[t,i]*c_rate[t,j]\n",
    "    grad = a+b+c\n",
    "    return grad\n",
    "\n",
    "def graf_ij(c_rate, t, v, A, i):\n",
    "    if t == 0:\n",
    "        return c_rate[0, i]\n",
    "    j = 1-i\n",
    "    a = grad_ij(c_rate, t-1, v, A, i) * (1 + A[i,i]*v[i]**2 *(1 - 2*c_rate[t,i]) - A[i,j]*v[i]*v[j]*c_rate[t,j])\n",
    "    b = grad_ii(c_rate, t-1, v, A, j)*A[i,j]*v[i]*v[j](1-c_rate[t,i])\n",
    "    c = A[i,j]*v[i]c_rate[t,i] - A[i,j]*v[i]*c_rate[t,i]*c_rate[t,j]\n",
    "    grad = a+b+c\n",
    "    return grad\n",
    "        "
   ]
  },
  {
   "cell_type": "code",
   "execution_count": 22,
   "metadata": {},
   "outputs": [],
   "source": [
    "def func(i):\n",
    "    for j in range(i):\n",
    "        test = test + [i]"
   ]
  },
  {
   "cell_type": "code",
   "execution_count": 6,
   "metadata": {},
   "outputs": [
    {
     "ename": "TypeError",
     "evalue": "can only concatenate list (not \"tuple\") to list",
     "output_type": "error",
     "traceback": [
      "\u001b[1;31m---------------------------------------------------------------------------\u001b[0m",
      "\u001b[1;31mTypeError\u001b[0m                                 Traceback (most recent call last)",
      "\u001b[1;32m<ipython-input-6-5f88c4d57d46>\u001b[0m in \u001b[0;36m<module>\u001b[1;34m\u001b[0m\n\u001b[0;32m      1\u001b[0m \u001b[0mA\u001b[0m \u001b[1;33m=\u001b[0m \u001b[0mnp\u001b[0m\u001b[1;33m.\u001b[0m\u001b[0mzeros\u001b[0m\u001b[1;33m(\u001b[0m\u001b[1;33m(\u001b[0m\u001b[1;36m2\u001b[0m\u001b[1;33m,\u001b[0m\u001b[1;36m2\u001b[0m\u001b[1;33m)\u001b[0m\u001b[1;33m)\u001b[0m\u001b[1;33m\u001b[0m\u001b[1;33m\u001b[0m\u001b[0m\n\u001b[1;32m----> 2\u001b[1;33m \u001b[0mB\u001b[0m \u001b[1;33m=\u001b[0m \u001b[0mnp\u001b[0m\u001b[1;33m.\u001b[0m\u001b[0mzeros\u001b[0m\u001b[1;33m(\u001b[0m\u001b[1;33m[\u001b[0m\u001b[1;36m2\u001b[0m\u001b[1;33m]\u001b[0m \u001b[1;33m+\u001b[0m \u001b[0mA\u001b[0m\u001b[1;33m.\u001b[0m\u001b[0mshape\u001b[0m\u001b[1;33m)\u001b[0m\u001b[1;33m\u001b[0m\u001b[1;33m\u001b[0m\u001b[0m\n\u001b[0m\u001b[0;32m      3\u001b[0m \u001b[0mB\u001b[0m\u001b[1;33m\u001b[0m\u001b[1;33m\u001b[0m\u001b[0m\n",
      "\u001b[1;31mTypeError\u001b[0m: can only concatenate list (not \"tuple\") to list"
     ]
    }
   ],
   "source": [
    "A = np.zeros((2,2))\n",
    "B = np.zeros([2] + A.shape)\n",
    "B"
   ]
  }
 ],
 "metadata": {
  "kernelspec": {
   "display_name": "Python 3",
   "language": "python",
   "name": "python3"
  },
  "language_info": {
   "codemirror_mode": {
    "name": "ipython",
    "version": 3
   },
   "file_extension": ".py",
   "mimetype": "text/x-python",
   "name": "python",
   "nbconvert_exporter": "python",
   "pygments_lexer": "ipython3",
   "version": "3.8.5"
  }
 },
 "nbformat": 4,
 "nbformat_minor": 4
}
