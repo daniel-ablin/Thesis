{
 "cells": [
  {
   "cell_type": "code",
   "execution_count": null,
   "id": "1b8a08ba-0453-48ec-ac7a-e2a85f789e03",
   "metadata": {},
   "outputs": [],
   "source": [
    "import pandas as pd\n",
    "import numpy as np\n",
    "import os\n",
    "import seaborn as sns\n",
    "from itertools import product\n",
    "import matplotlib.pyplot as plt\n",
    "\n",
    "import statsmodels.api as sm\n",
    "import statsmodels.formula.api as smf\n",
    "from sklearn import metrics\n",
    "\n",
    "import sys\n",
    "\n",
    "try:\n",
    "    del sys.modules['results_analisys.utils']\n",
    "except:\n",
    "    pass\n",
    "\n",
    "from results_analisys.utils import *\n",
    "\n",
    "pd.options.display.max_columns = 100\n",
    "pd.options.display.max_rows = 100\n",
    "sns.set(font_scale=2)"
   ]
  },
  {
   "cell_type": "markdown",
   "source": [
    "# 2 groups"
   ],
   "metadata": {
    "collapsed": false
   }
  },
  {
   "cell_type": "code",
   "execution_count": null,
   "outputs": [],
   "source": [
    "specific_file = '/Users/danielablin/Documents/GitHub/Thesis/test_run_5_3_2023-03-20 19:48:21.762309.pickle'\n",
    "base = parse_test(specific_file, 3)\n",
    "\n",
    "specific_file = '/Users/danielablin/Documents/GitHub/Thesis/test_run_5_3_2023-03-20 19:30:41.277072.pickle'\n",
    "base2 = parse_test(specific_file, 3)"
   ],
   "metadata": {
    "collapsed": false
   }
  },
  {
   "cell_type": "code",
   "execution_count": null,
   "id": "6413060a-3cbf-4d06-af64-442c5a1170de",
   "metadata": {},
   "outputs": [],
   "source": [
    "base.groupby(['best_sol', 'msg_sol'])['best_sol'].count()"
   ]
  },
  {
   "cell_type": "code",
   "execution_count": null,
   "outputs": [],
   "source": [
    "fig, ax = plt.subplots()\n",
    "fig.set_figheight(12)\n",
    "fig.set_figwidth(15)\n",
    "\n",
    "test = rename_cols(base, 30, 2)\n",
    "\n",
    "sns.scatterplot(data=test, x='Old Cost of Infection', y='Young Cost of Infection', hue='Lowest Cost', hue_order=['equilibrium', 'government'])\n",
    "sns.scatterplot(data=test, x='factor', y='Young Cost of Infection', color='green')"
   ],
   "metadata": {
    "collapsed": false
   }
  },
  {
   "cell_type": "markdown",
   "source": [
    "# 3 groups"
   ],
   "metadata": {
    "collapsed": false
   }
  },
  {
   "cell_type": "code",
   "execution_count": null,
   "outputs": [],
   "source": [
    "specific_file = '/Users/danielablin/Documents/GitHub/Thesis/test_run_2023-02-08_129_10000_3.pickle'\n",
    "base = parse_test(specific_file, 3)"
   ],
   "metadata": {
    "collapsed": false
   }
  },
  {
   "cell_type": "code",
   "execution_count": null,
   "id": "8d6649e1-f67e-4e33-ae80-def9fd85396e",
   "metadata": {},
   "outputs": [],
   "source": [
    "base.groupby('best_sol')['best_sol'].count()"
   ]
  },
  {
   "cell_type": "code",
   "execution_count": null,
   "outputs": [],
   "source": [
    "fig, ax = plt.subplots()\n",
    "fig.set_figheight(12)\n",
    "fig.set_figwidth(15)\n",
    "\n",
    "test = rename_cols(base, 38, 3)\n",
    "\n",
    "sns.scatterplot(data=test, x='Old Cost of Infection', y='Young Cost of Infection', hue='Lowest Cost', hue_order=['equilibrium', 'government'])\n",
    "sns.scatterplot(data=test, x='factor', y='Young Cost of Infection', color='green')"
   ],
   "metadata": {
    "collapsed": false
   }
  },
  {
   "cell_type": "markdown",
   "source": [
    "# 4 groups"
   ],
   "metadata": {
    "collapsed": false
   }
  },
  {
   "cell_type": "code",
   "execution_count": null,
   "outputs": [],
   "source": [
    "specific_file = '/Users/danielablin/Documents/GitHub/Thesis/test_run_2023-02-10_129_10000_4.pickle'\n",
    "base = parse_test(specific_file, 4)"
   ],
   "metadata": {
    "collapsed": false
   }
  },
  {
   "cell_type": "code",
   "execution_count": null,
   "outputs": [],
   "source": [
    "base.groupby('best_sol')['best_sol'].count()"
   ],
   "metadata": {
    "collapsed": false
   }
  },
  {
   "cell_type": "code",
   "execution_count": null,
   "outputs": [],
   "source": [
    "fig, ax = plt.subplots()\n",
    "fig.set_figheight(12)\n",
    "fig.set_figwidth(15)\n",
    "\n",
    "test = rename_cols(base, 39, 4)\n",
    "\n",
    "sns.scatterplot(data=test, x='Old Cost of Infection', y='Young Cost of Infection', hue='Lowest Cost', hue_order=['equilibrium', 'government'])\n",
    "sns.scatterplot(data=test, x='factor', y='Young Cost of Infection', color='green')"
   ],
   "metadata": {
    "collapsed": false
   }
  },
  {
   "cell_type": "markdown",
   "source": [
    "# 5 groups"
   ],
   "metadata": {
    "collapsed": false
   }
  },
  {
   "cell_type": "code",
   "execution_count": null,
   "outputs": [],
   "source": [
    "specific_file = '/Users/danielablin/Documents/GitHub/Thesis/test_run_100_5_2023-03-12 12:57:31.251713.pickle'\n",
    "base = parse_test(specific_file, 5)\n",
    "base.groupby('best_sol')['best_sol'].count()"
   ],
   "metadata": {
    "collapsed": false
   }
  },
  {
   "cell_type": "code",
   "execution_count": null,
   "outputs": [],
   "source": [
    "base.groupby('best_sol')['best_sol'].count()\n",
    "fig, ax = plt.subplots()\n",
    "fig.set_figheight(12)\n",
    "fig.set_figwidth(15)\n",
    "\n",
    "test = rename_cols(base, 41, 5)\n",
    "\n",
    "sns.scatterplot(data=test, x='Old Cost of Infection', y='Young Cost of Infection', hue='Lowest Cost', hue_order=['equilibrium', 'government'])\n",
    "sns.scatterplot(data=test, x='factor', y='Young Cost of Infection', color='green')"
   ],
   "metadata": {
    "collapsed": false
   }
  },
  {
   "cell_type": "markdown",
   "source": [
    "# 2 groups moving d"
   ],
   "metadata": {
    "collapsed": false
   }
  },
  {
   "cell_type": "code",
   "execution_count": null,
   "outputs": [],
   "source": [
    "specific_file = '/Users/danielablin/Documents/GitHub/Thesis/test_run_13_2_2023-03-06 23:51:37.992195.pickle'\n",
    "base = parse_test(specific_file, 2)\n",
    "temp_l = pd.DataFrame(base['risk_l'].to_list())\n",
    "base['risk rate'] = round(temp_l[1]/temp_l[0], 3)\n",
    "parse_col(base, 'd', 4, [11, 12, 21, 22])\n",
    "base['connection rate'] = base['d_12']/(base['d_11'] + base['d_12'])\n",
    "#base['sol_gap'] = (base['sol_gap']*10).clip(-1,1)\n",
    "base['POA'] = base['cost_sol_gov'] / base['cost_sol']"
   ],
   "metadata": {
    "collapsed": false
   }
  },
  {
   "cell_type": "code",
   "execution_count": null,
   "outputs": [],
   "source": [
    "rng = np.random.default_rng(1)\n",
    "risk_rng = rng.choice([i for i in base['risk rate'].unique() if i <= 20], size=10, replace=False)\n"
   ],
   "metadata": {
    "collapsed": false
   }
  },
  {
   "cell_type": "code",
   "execution_count": null,
   "outputs": [],
   "source": [
    "fig, ax = plt.subplots()\n",
    "fig.set_figheight(12)\n",
    "fig.set_figwidth(15)\n",
    "risks_to_show = base['risk rate'].unique()\n",
    "risks_to_show = [3.155, 4.491, 7.195, 13.782, 27.107, 52.390, 72.452]\n",
    "x_ticks_labels = ['', 'Fully separated', '', '', '', 'Fully connected']\n",
    "\n",
    "test = base[base['risk rate'].isin(risks_to_show) & (base['connection rate'] <= 0.5)]\n",
    "test['risk rate'] = round(test['risk rate'])\n",
    "\n",
    "ax.set_xticklabels(x_ticks_labels, fontsize=18)\n",
    "\n",
    "sns.lineplot(data=test, x='connection rate', y='POA', hue='risk rate')"
   ],
   "metadata": {
    "collapsed": false
   }
  },
  {
   "cell_type": "code",
   "execution_count": null,
   "outputs": [],
   "source": [
    "fig, ax = plt.subplots()\n",
    "fig.set_figheight(6)\n",
    "fig.set_figwidth(15)\n",
    "risks_to_show = [9.9, 4.609]\n",
    "x_ticks_labels = ['', 'Fully separated', '', '', '', 'Fully connected']\n",
    "\n",
    "test = base[base['risk rate'].isin(risks_to_show) & (base['connection rate'] <= 0.5)]\n",
    "test['risk rate'] = round(test['risk rate'])\n",
    "\n",
    "ax.set_xticklabels(x_ticks_labels, fontsize=18)\n",
    "\n",
    "sns.lineplot(data=test, x='connection rate', y='POA', hue='risk rate')"
   ],
   "metadata": {
    "collapsed": false
   }
  },
  {
   "cell_type": "markdown",
   "source": [
    "# different beta test"
   ],
   "metadata": {
    "collapsed": false
   }
  },
  {
   "cell_type": "code",
   "execution_count": null,
   "outputs": [],
   "source": [
    "specific_file = '/Users/danielablin/Documents/GitHub/Thesis/test_run_1000_2_0.2_2023-05-16 19:14:07.135593.pickle'\n",
    "base = parse_test(specific_file, 2)\n",
    "base.groupby('best_sol')['best_sol'].count()\n",
    "fig, ax = plt.subplots()\n",
    "fig.set_figheight(12)\n",
    "fig.set_figwidth(15)\n",
    "\n",
    "test = rename_cols(base, 28 ,2)\n",
    "\n",
    "sns.scatterplot(data=test, x='Old Cost of Infection', y='Young Cost of Infection', hue='Lowest Cost', hue_order=['equilibrium', 'government'])\n",
    "sns.scatterplot(data=test, x='factor', y='Young Cost of Infection', color='green')"
   ],
   "metadata": {
    "collapsed": false
   }
  },
  {
   "cell_type": "code",
   "execution_count": null,
   "outputs": [],
   "source": [
    "specific_file = '/Users/danielablin/Documents/GitHub/Thesis/test_run_13_2_0.3_2023-05-20 16:42:20.454345.pickle'\n",
    "base = parse_test(specific_file, 2)\n",
    "temp_l = pd.DataFrame(base['risk_l'].to_list())\n",
    "base['risk rate'] = round(temp_l[1] / temp_l[0], 3)\n",
    "parse_col(base, 'd', 4, [11, 12, 21, 22])\n",
    "base['connection rate'] = base['d_12'] / (base['d_11'] + base['d_12'])\n",
    "base['POA'] = base['cost_sol'] / base['cost_sol_gov']\n",
    "rng = np.random.default_rng(1)\n",
    "risk_rng = rng.choice([i for i in base['risk rate'].unique() if i <= 20], size=10, replace=False)\n",
    "\n",
    "fig, ax = plt.subplots()\n",
    "fig.set_figheight(12)\n",
    "fig.set_figwidth(15)\n",
    "risks_to_show = base['risk rate'].unique()\n",
    "risks_to_show = [3.155, 4.491, 7.195, 13.782, 27.107, 52.390, 72.452]\n",
    "risks_to_show = risk_rng\n",
    "x_ticks_labels = ['', 'Fully separated', '', '', '', 'Fully connected']\n",
    "\n",
    "test = base[base['risk rate'].isin(risks_to_show) & (base['connection rate'] <= 0.5)]\n",
    "test['risk rate'] = round(test['risk rate'])\n",
    "\n",
    "ax.set_xticklabels(x_ticks_labels, fontsize=18)\n",
    "\n",
    "sns.lineplot(data=test, x='connection rate', y='POA', hue='risk rate')"
   ],
   "metadata": {
    "collapsed": false
   }
  },
  {
   "cell_type": "code",
   "execution_count": null,
   "outputs": [],
   "source": [],
   "metadata": {
    "collapsed": false
   }
  },
  {
   "cell_type": "code",
   "execution_count": null,
   "outputs": [],
   "source": [
    "specific_file = '/Users/danielablin/Documents/GitHub/Thesis/test_run_13_2_2023-03-06 23:51:37.992195.pickle'\n",
    "base = parse_test(specific_file, 2)\n",
    "temp_l = pd.DataFrame(base['risk_l'].to_list())\n",
    "base['risk rate'] = round(temp_l[1] / temp_l[0], 3)\n",
    "parse_col(base, 'd', 4, [11, 12, 21, 22])\n",
    "base['connection rate'] = base['d_12'] / (base['d_11'] + base['d_12'])\n",
    "base['POA'] = base['cost_sol_gov'] / base['cost_sol']\n",
    "rng = np.random.default_rng(1)\n",
    "risk_rng = rng.choice([i for i in base['risk rate'].unique() if i <= 20], size=10, replace=False)\n",
    "\n",
    "fig, ax = plt.subplots()\n",
    "fig.set_figheight(12)\n",
    "fig.set_figwidth(15)\n",
    "risks_to_show = base['risk rate'].unique()\n",
    "risks_to_show = [3.155, 4.491, 7.195, 13.782, 27.107, 52.390, 72.452]\n",
    "x_ticks_labels = ['', 'Fully separated', '', '', '', 'Fully connected']\n",
    "\n",
    "test = base[base['risk rate'].isin(risks_to_show) & (base['connection rate'] <= 0.5)]\n",
    "test['risk rate'] = round(test['risk rate'])\n",
    "\n",
    "ax.set_xticklabels(x_ticks_labels, fontsize=18)\n",
    "ax.set_ylim(0.8, 1.2)\n",
    "\n",
    "sns.lineplot(data=test, x='connection rate', y='POA', hue='risk rate')"
   ],
   "metadata": {
    "collapsed": false
   }
  }
 ],
 "metadata": {
  "kernelspec": {
   "display_name": "Python 3 (ipykernel)",
   "language": "python",
   "name": "python3"
  },
  "language_info": {
   "codemirror_mode": {
    "name": "ipython",
    "version": 3
   },
   "file_extension": ".py",
   "mimetype": "text/x-python",
   "name": "python",
   "nbconvert_exporter": "python",
   "pygments_lexer": "ipython3",
   "version": "3.9.12"
  }
 },
 "nbformat": 4,
 "nbformat_minor": 5
}
