{
 "cells": [
  {
   "cell_type": "code",
   "execution_count": 7,
   "metadata": {},
   "outputs": [],
   "source": [
    "import numpy as np\n",
    "import matplotlib.pyplot as plt\n",
    "import tqdm\n",
    "from scipy.optimize import fmin_tnc"
   ]
  },
  {
   "cell_type": "code",
   "execution_count": 8,
   "metadata": {},
   "outputs": [],
   "source": [
    "class model(object):\n",
    "    def __init__(self, x0, t, v, A, L):\n",
    "        self.x0 = x0\n",
    "        self.t = t\n",
    "        self.v = v\n",
    "        self.v_g = np.mean(v)\n",
    "        self.A = A\n",
    "        self.L = L\n",
    "        \n",
    "    def calc_grad(self, Iter):\n",
    "        A = self.A\n",
    "        v = self.v\n",
    "        x = self.rates[Iter,:]\n",
    "        pre_grad = self.grad[Iter,:,:]\n",
    "        for i in range(A.shape[0]):\n",
    "            j = 1-i\n",
    "            a = pre_grad[i,i] * (1 + A[i,i]*v[i]**2 *(1 - 2*x[i]) - A[i,j]*v[i]*v[j]*x[j])\n",
    "            b = pre_grad[i,j] * A[i,j]*v[i]*v[j]*(1-x[i])\n",
    "            c = 2*A[i,j]*v[i]*x[i] - 2*A[i,i]*v[i]*x[i]**2 + A[i,j]*v[j]*x[j] - A[i,j]*v[j]*x[i]*x[j]\n",
    "            self.grad[Iter, i, i] = a+b+c\n",
    "            a = pre_grad[i,j] * (1 + A[i,i]*v[i]**2 *(1 - 2*x[i]) - A[i,j]*v[i]*v[j]*x[j])\n",
    "            b = pre_grad[i,i]*A[i,j]*v[i]*v[j]*(1-x[i])\n",
    "            c = A[i,j]*v[i]*x[i] - A[i,j]*v[i]*x[i]*x[j]\n",
    "            self.grad[Iter, i, j] = a+b+c\n",
    "    \n",
    "    def calc_grad_g(self, Iter):\n",
    "        A = self.A\n",
    "        v = self.v_g\n",
    "        x = self.rates_g[Iter,:]\n",
    "        pre_grad = self.grad_g[Iter,:]\n",
    "        for i in range(A.shape[0]):\n",
    "            j = 1-i\n",
    "            a = pre_grad[i] * (1 + v**2*A[i,i] - v**2*A[i,i]*2*x[i] - v**2*A[i,j]*x[j])\n",
    "            b = pre_grad[j] * (v**2*A[i,j] - v**2*A[i,j]*x[i])\n",
    "            c = 2*v*A[i,i]*x[i] - 2*v*A[i,i]*x[i]**2 + 2*v*A[i,j]*x[j] - 2*v*A[i,j]*x[i]*x[j]\n",
    "            self.grad_g[Iter, i] = a+b+c \n",
    "        \n",
    "    def iterate(self, Iter):\n",
    "        self.rates[Iter,:] = self.x0\n",
    "        self.grad[Iter,:,:] = 0\n",
    "        for i in range(1,self.t+1):\n",
    "            self.rates[Iter,:] = self.rates[Iter,:] + self.v*(1-self.rates[Iter,:])*(np.sum(self.A*self.v*self.rates[Iter,:], axis=1))\n",
    "            self.calc_grad(Iter)\n",
    "        self.cost[Iter,:] = self.rates[Iter,:]*self.L + 1/self.v - 1\n",
    "        self.f_grad[Iter, :] = np.diag(self.grad[Iter,:,:])*self.L - 1/(self.v**2)\n",
    "    \n",
    "    def iterate_g(self, Iter):\n",
    "        self.rates_g[Iter,:] = self.x0\n",
    "        self.grad_g[Iter,:] = 0\n",
    "        for i in range(1,self.t+1):\n",
    "            self.rates_g[Iter,:] = self.rates_g[Iter,:] + self.v_g*(1-self.rates_g[Iter,:])*(np.sum(self.A*self.v_g*self.rates_g[Iter,:], axis=1))\n",
    "            self.calc_grad_g(Iter)\n",
    "        self.cost_g[Iter,:] = self.rates_g[Iter,:]*self.L + 1/self.v_g - 1\n",
    "        self.f_grad_g[Iter, :] = self.grad_g[Iter,:]*self.L - 1/(self.v_g**2)\n",
    "    \n",
    "    def train(self, lr, Iter, gov = False):\n",
    "        self.rates = np.zeros((Iter, x0.shape[0]))\n",
    "        self.grad = np.zeros((Iter, A.shape[0], A.shape[1]))\n",
    "        self.f_grad = np.zeros((Iter, A.shape[0]))\n",
    "        self.cost = np.zeros((Iter, A.shape[0]))\n",
    "        if gov:\n",
    "            self.rates_g = np.zeros((Iter, x0.shape[0]))\n",
    "            self.grad_g = np.zeros((Iter, A.shape[0]))\n",
    "            self.f_grad_g = np.zeros((Iter, A.shape[0]))\n",
    "            self.cost_g = np.zeros((Iter, A.shape[0]))\n",
    "            \n",
    "        for i in tqdm.tqdm(range(Iter)):\n",
    "            self.iterate(i)\n",
    "            self.v = self.v - lr*(self.f_grad[i,:])\n",
    "            self.v = np.minimum(np.maximum(self.v, 0), 1)\n",
    "            if gov:\n",
    "                self.iterate_g(i)\n",
    "                self.v_g = self.v_g - lr*(self.f_grad_g[i,0])\n",
    "                self.v_g = self.v_g - lr*(self.f_grad_g[i,1])\n",
    "                self.v_g = np.minimum(np.maximum(self.v_g, 0), 1)\n",
    "    "
   ]
  },
  {
   "cell_type": "code",
   "execution_count": 9,
   "metadata": {},
   "outputs": [],
   "source": [
    "x0 = np.array([0.0001,0.1])\n",
    "t = 150\n",
    "v = np.array([0.3,0.4])\n",
    "A = np.array([[0.6,0.4],[0.5,0.5]])\n",
    "beta = 0.1\n",
    "A = A*beta\n",
    "L = np.array([0.8, 0.6])\n",
    "#temp = contagion_rate(x0, t, v, A)"
   ]
  },
  {
   "cell_type": "code",
   "execution_count": 10,
   "metadata": {},
   "outputs": [],
   "source": [
    "model_1 = model(x0,t,v,A,np.array([1, 3]))\n",
    "model_2 = model(x0,t,v,A,np.array([10, 30]))\n",
    "model_3 = model(x0,t,v,A,np.array([100, 300]))\n",
    "model_4 = model(x0,t,v,A,np.array([1000, 3000]))\n",
    "model_5 = model(x0,t,v,A,np.array([0.1, 0.3]))\n",
    "itr = 5000"
   ]
  },
  {
   "cell_type": "code",
   "execution_count": 41,
   "metadata": {},
   "outputs": [
    {
     "name": "stderr",
     "output_type": "stream",
     "text": [
      "100%|██████████████████████████████████████████████████████████████████████████████| 5000/5000 [01:49<00:00, 45.86it/s]\n"
     ]
    }
   ],
   "source": [
    "model_5.train(0.001,itr, True)"
   ]
  },
  {
   "cell_type": "code",
   "execution_count": 11,
   "metadata": {
    "scrolled": true
   },
   "outputs": [
    {
     "name": "stderr",
     "output_type": "stream",
     "text": [
      "100%|██████████████████████████████████████████████████████████████████████████████| 5000/5000 [01:45<00:00, 47.41it/s]\n",
      "100%|██████████████████████████████████████████████████████████████████████████████| 5000/5000 [01:46<00:00, 46.84it/s]\n",
      "  0%|                                                                                         | 0/5000 [00:00<?, ?it/s]<ipython-input-8-482e06e104c4>:44: RuntimeWarning: divide by zero encountered in true_divide\n",
      "  self.cost[Iter,:] = self.rates[Iter,:]*self.L + 1/self.v - 1\n",
      "<ipython-input-8-482e06e104c4>:45: RuntimeWarning: divide by zero encountered in true_divide\n",
      "  self.f_grad[Iter, :] = np.diag(self.grad[Iter,:,:])*self.L - 1/(self.v**2)\n",
      "<ipython-input-8-482e06e104c4>:53: RuntimeWarning: divide by zero encountered in double_scalars\n",
      "  self.cost_g[Iter,:] = self.rates_g[Iter,:]*self.L + 1/self.v_g - 1\n",
      "<ipython-input-8-482e06e104c4>:54: RuntimeWarning: divide by zero encountered in double_scalars\n",
      "  self.f_grad_g[Iter, :] = self.grad_g[Iter,:]*self.L - 1/(self.v_g**2)\n",
      "100%|██████████████████████████████████████████████████████████████████████████████| 5000/5000 [01:45<00:00, 47.59it/s]\n",
      "100%|██████████████████████████████████████████████████████████████████████████████| 5000/5000 [01:48<00:00, 46.16it/s]\n",
      "100%|██████████████████████████████████████████████████████████████████████████████| 5000/5000 [01:45<00:00, 47.40it/s]\n"
     ]
    }
   ],
   "source": [
    "model_1.train(0.001,itr, True)\n",
    "model_2.train(0.001,itr, True)\n",
    "model_3.train(0.001,itr, True)\n",
    "model_4.train(0.001,itr, True)\n",
    "model_5.train(0.001,itr, True)"
   ]
  },
  {
   "cell_type": "code",
   "execution_count": 13,
   "metadata": {
    "scrolled": false
   },
   "outputs": [
    {
     "name": "stdout",
     "output_type": "stream",
     "text": [
      "[1. 1.] 0.41741309125119297\n"
     ]
    },
    {
     "data": {
      "text/plain": [
       "array([0.9999956, 2.9999886])"
      ]
     },
     "execution_count": 13,
     "metadata": {},
     "output_type": "execute_result"
    },
    {
     "data": {
      "image/png": "[encoded data removed]",
      "text/plain": [
       "<Figure size 432x288 with 3 Axes>"
      ]
     },
     "metadata": {
      "needs_background": "light"
     },
     "output_type": "display_data"
    }
   ],
   "source": [
    "model = model_1\n",
    "fig, axs = plt.subplots(1,3)\n",
    "axs[0].plot(range(itr), np.sum(model.cost, axis=1), label='Cost')\n",
    "axs[0].plot(range(itr), np.sum(model.cost_g, axis=1), label='Cost_g')\n",
    "axs[1].plot(range(itr), model.rates, label='Rate')\n",
    "axs[1].plot(range(itr), model.rates_g, label='Rate_g')\n",
    "axs[2].plot(range(itr), model.f_grad, label='grad')\n",
    "axs[2].plot(range(itr), model.f_grad_g, label='grad_G')\n",
    "#axs[0].set_ylim([1, 1.5])\n",
    "for i in range(3):\n",
    "    axs[i].set_xlim([0, itr])\n",
    "    axs[i].legend()\n",
    "print(model.v, model.v_g)\n",
    "model.cost[itr-1]"
   ]
  },
  {
   "cell_type": "code",
   "execution_count": 99,
   "metadata": {
    "scrolled": true
   },
   "outputs": [
    {
     "name": "stderr",
     "output_type": "stream",
     "text": [
      "100%|█████████████████████████████████████████████████████████████████████████████████| 50/50 [00:00<00:00, 104.22it/s]\n",
      "100%|██████████████████████████████████████████████████████████████████████████████████| 50/50 [00:00<00:00, 99.58it/s]\n",
      "100%|█████████████████████████████████████████████████████████████████████████████████| 50/50 [00:00<00:00, 103.65it/s]\n",
      "100%|██████████████████████████████████████████████████████████████████████████████████| 50/50 [00:00<00:00, 99.57it/s]\n",
      "100%|█████████████████████████████████████████████████████████████████████████████████| 50/50 [00:00<00:00, 103.83it/s]\n"
     ]
    },
    {
     "name": "stdout",
     "output_type": "stream",
     "text": [
      "[None, None, None, None, None]\n"
     ]
    },
    {
     "ename": "ValueError",
     "evalue": "x and y must have same first dimension, but have shapes (1,) and (5,)",
     "output_type": "error",
     "traceback": [
      "\u001b[1;31m---------------------------------------------------------------------------\u001b[0m",
      "\u001b[1;31mValueError\u001b[0m                                Traceback (most recent call last)",
      "\u001b[1;32m<ipython-input-99-0b81013a9572>\u001b[0m in \u001b[0;36m<module>\u001b[1;34m\u001b[0m\n\u001b[0;32m     21\u001b[0m \u001b[0mprint\u001b[0m\u001b[1;33m(\u001b[0m\u001b[0mcost\u001b[0m\u001b[1;33m)\u001b[0m\u001b[1;33m\u001b[0m\u001b[1;33m\u001b[0m\u001b[0m\n\u001b[0;32m     22\u001b[0m \u001b[0mfig\u001b[0m\u001b[1;33m,\u001b[0m \u001b[0maxs\u001b[0m \u001b[1;33m=\u001b[0m \u001b[0mplt\u001b[0m\u001b[1;33m.\u001b[0m\u001b[0msubplots\u001b[0m\u001b[1;33m(\u001b[0m\u001b[1;36m1\u001b[0m\u001b[1;33m,\u001b[0m\u001b[1;36m3\u001b[0m\u001b[1;33m)\u001b[0m\u001b[1;33m\u001b[0m\u001b[1;33m\u001b[0m\u001b[0m\n\u001b[1;32m---> 23\u001b[1;33m \u001b[0maxs\u001b[0m\u001b[1;33m[\u001b[0m\u001b[1;36m0\u001b[0m\u001b[1;33m]\u001b[0m\u001b[1;33m.\u001b[0m\u001b[0mplot\u001b[0m\u001b[1;33m(\u001b[0m\u001b[0mlen\u001b[0m\u001b[1;33m(\u001b[0m\u001b[0mL\u001b[0m\u001b[1;33m)\u001b[0m\u001b[1;33m,\u001b[0m \u001b[1;33m(\u001b[0m\u001b[0mcost\u001b[0m\u001b[1;33m)\u001b[0m\u001b[1;33m,\u001b[0m \u001b[0mlabel\u001b[0m\u001b[1;33m=\u001b[0m\u001b[1;34m'Cost'\u001b[0m\u001b[1;33m)\u001b[0m\u001b[1;33m\u001b[0m\u001b[1;33m\u001b[0m\u001b[0m\n\u001b[0m\u001b[0;32m     24\u001b[0m \u001b[0maxs\u001b[0m\u001b[1;33m[\u001b[0m\u001b[1;36m0\u001b[0m\u001b[1;33m]\u001b[0m\u001b[1;33m.\u001b[0m\u001b[0mplot\u001b[0m\u001b[1;33m(\u001b[0m\u001b[0mlen\u001b[0m\u001b[1;33m(\u001b[0m\u001b[0mL\u001b[0m\u001b[1;33m)\u001b[0m\u001b[1;33m,\u001b[0m \u001b[1;33m(\u001b[0m\u001b[0mcost_g\u001b[0m\u001b[1;33m)\u001b[0m\u001b[1;33m,\u001b[0m \u001b[0mlabel\u001b[0m\u001b[1;33m=\u001b[0m\u001b[1;34m'Cost_g'\u001b[0m\u001b[1;33m)\u001b[0m\u001b[1;33m\u001b[0m\u001b[1;33m\u001b[0m\u001b[0m\n\u001b[0;32m     25\u001b[0m \u001b[0maxs\u001b[0m\u001b[1;33m[\u001b[0m\u001b[1;36m1\u001b[0m\u001b[1;33m]\u001b[0m\u001b[1;33m.\u001b[0m\u001b[0mplot\u001b[0m\u001b[1;33m(\u001b[0m\u001b[0mlen\u001b[0m\u001b[1;33m(\u001b[0m\u001b[0mL\u001b[0m\u001b[1;33m)\u001b[0m\u001b[1;33m,\u001b[0m \u001b[0mrates\u001b[0m\u001b[1;33m,\u001b[0m \u001b[0mlabel\u001b[0m\u001b[1;33m=\u001b[0m\u001b[1;34m'Rate'\u001b[0m\u001b[1;33m)\u001b[0m\u001b[1;33m\u001b[0m\u001b[1;33m\u001b[0m\u001b[0m\n",
      "\u001b[1;32m~\\anaconda3\\lib\\site-packages\\matplotlib\\axes\\_axes.py\u001b[0m in \u001b[0;36mplot\u001b[1;34m(self, scalex, scaley, data, *args, **kwargs)\u001b[0m\n\u001b[0;32m   1741\u001b[0m         \"\"\"\n\u001b[0;32m   1742\u001b[0m         \u001b[0mkwargs\u001b[0m \u001b[1;33m=\u001b[0m \u001b[0mcbook\u001b[0m\u001b[1;33m.\u001b[0m\u001b[0mnormalize_kwargs\u001b[0m\u001b[1;33m(\u001b[0m\u001b[0mkwargs\u001b[0m\u001b[1;33m,\u001b[0m \u001b[0mmlines\u001b[0m\u001b[1;33m.\u001b[0m\u001b[0mLine2D\u001b[0m\u001b[1;33m)\u001b[0m\u001b[1;33m\u001b[0m\u001b[1;33m\u001b[0m\u001b[0m\n\u001b[1;32m-> 1743\u001b[1;33m         \u001b[0mlines\u001b[0m \u001b[1;33m=\u001b[0m \u001b[1;33m[\u001b[0m\u001b[1;33m*\u001b[0m\u001b[0mself\u001b[0m\u001b[1;33m.\u001b[0m\u001b[0m_get_lines\u001b[0m\u001b[1;33m(\u001b[0m\u001b[1;33m*\u001b[0m\u001b[0margs\u001b[0m\u001b[1;33m,\u001b[0m \u001b[0mdata\u001b[0m\u001b[1;33m=\u001b[0m\u001b[0mdata\u001b[0m\u001b[1;33m,\u001b[0m \u001b[1;33m**\u001b[0m\u001b[0mkwargs\u001b[0m\u001b[1;33m)\u001b[0m\u001b[1;33m]\u001b[0m\u001b[1;33m\u001b[0m\u001b[1;33m\u001b[0m\u001b[0m\n\u001b[0m\u001b[0;32m   1744\u001b[0m         \u001b[1;32mfor\u001b[0m \u001b[0mline\u001b[0m \u001b[1;32min\u001b[0m \u001b[0mlines\u001b[0m\u001b[1;33m:\u001b[0m\u001b[1;33m\u001b[0m\u001b[1;33m\u001b[0m\u001b[0m\n\u001b[0;32m   1745\u001b[0m             \u001b[0mself\u001b[0m\u001b[1;33m.\u001b[0m\u001b[0madd_line\u001b[0m\u001b[1;33m(\u001b[0m\u001b[0mline\u001b[0m\u001b[1;33m)\u001b[0m\u001b[1;33m\u001b[0m\u001b[1;33m\u001b[0m\u001b[0m\n",
      "\u001b[1;32m~\\anaconda3\\lib\\site-packages\\matplotlib\\axes\\_base.py\u001b[0m in \u001b[0;36m__call__\u001b[1;34m(self, data, *args, **kwargs)\u001b[0m\n\u001b[0;32m    271\u001b[0m                 \u001b[0mthis\u001b[0m \u001b[1;33m+=\u001b[0m \u001b[0margs\u001b[0m\u001b[1;33m[\u001b[0m\u001b[1;36m0\u001b[0m\u001b[1;33m]\u001b[0m\u001b[1;33m,\u001b[0m\u001b[1;33m\u001b[0m\u001b[1;33m\u001b[0m\u001b[0m\n\u001b[0;32m    272\u001b[0m                 \u001b[0margs\u001b[0m \u001b[1;33m=\u001b[0m \u001b[0margs\u001b[0m\u001b[1;33m[\u001b[0m\u001b[1;36m1\u001b[0m\u001b[1;33m:\u001b[0m\u001b[1;33m]\u001b[0m\u001b[1;33m\u001b[0m\u001b[1;33m\u001b[0m\u001b[0m\n\u001b[1;32m--> 273\u001b[1;33m             \u001b[1;32myield\u001b[0m \u001b[1;32mfrom\u001b[0m \u001b[0mself\u001b[0m\u001b[1;33m.\u001b[0m\u001b[0m_plot_args\u001b[0m\u001b[1;33m(\u001b[0m\u001b[0mthis\u001b[0m\u001b[1;33m,\u001b[0m \u001b[0mkwargs\u001b[0m\u001b[1;33m)\u001b[0m\u001b[1;33m\u001b[0m\u001b[1;33m\u001b[0m\u001b[0m\n\u001b[0m\u001b[0;32m    274\u001b[0m \u001b[1;33m\u001b[0m\u001b[0m\n\u001b[0;32m    275\u001b[0m     \u001b[1;32mdef\u001b[0m \u001b[0mget_next_color\u001b[0m\u001b[1;33m(\u001b[0m\u001b[0mself\u001b[0m\u001b[1;33m)\u001b[0m\u001b[1;33m:\u001b[0m\u001b[1;33m\u001b[0m\u001b[1;33m\u001b[0m\u001b[0m\n",
      "\u001b[1;32m~\\anaconda3\\lib\\site-packages\\matplotlib\\axes\\_base.py\u001b[0m in \u001b[0;36m_plot_args\u001b[1;34m(self, tup, kwargs)\u001b[0m\n\u001b[0;32m    397\u001b[0m \u001b[1;33m\u001b[0m\u001b[0m\n\u001b[0;32m    398\u001b[0m         \u001b[1;32mif\u001b[0m \u001b[0mx\u001b[0m\u001b[1;33m.\u001b[0m\u001b[0mshape\u001b[0m\u001b[1;33m[\u001b[0m\u001b[1;36m0\u001b[0m\u001b[1;33m]\u001b[0m \u001b[1;33m!=\u001b[0m \u001b[0my\u001b[0m\u001b[1;33m.\u001b[0m\u001b[0mshape\u001b[0m\u001b[1;33m[\u001b[0m\u001b[1;36m0\u001b[0m\u001b[1;33m]\u001b[0m\u001b[1;33m:\u001b[0m\u001b[1;33m\u001b[0m\u001b[1;33m\u001b[0m\u001b[0m\n\u001b[1;32m--> 399\u001b[1;33m             raise ValueError(f\"x and y must have same first dimension, but \"\n\u001b[0m\u001b[0;32m    400\u001b[0m                              f\"have shapes {x.shape} and {y.shape}\")\n\u001b[0;32m    401\u001b[0m         \u001b[1;32mif\u001b[0m \u001b[0mx\u001b[0m\u001b[1;33m.\u001b[0m\u001b[0mndim\u001b[0m \u001b[1;33m>\u001b[0m \u001b[1;36m2\u001b[0m \u001b[1;32mor\u001b[0m \u001b[0my\u001b[0m\u001b[1;33m.\u001b[0m\u001b[0mndim\u001b[0m \u001b[1;33m>\u001b[0m \u001b[1;36m2\u001b[0m\u001b[1;33m:\u001b[0m\u001b[1;33m\u001b[0m\u001b[1;33m\u001b[0m\u001b[0m\n",
      "\u001b[1;31mValueError\u001b[0m: x and y must have same first dimension, but have shapes (1,) and (5,)"
     ]
    },
    {
     "data": {
      "image/png": "[encoded data removed]",
      "text/plain": [
       "<Figure size 432x288 with 3 Axes>"
      ]
     },
     "metadata": {
      "needs_background": "light"
     },
     "output_type": "display_data"
    }
   ],
   "source": [
    "L = np.array(([0.8, 0.6],[4,1],[10,3],[30,10],[100,30]))\n",
    "lr = 0.001\n",
    "itr = 50\n",
    "cost = []\n",
    "cost_g = []\n",
    "rates=[]\n",
    "rates_g=[]\n",
    "f_grad=[]\n",
    "f_grad_g=[]\n",
    "for i in range(len(L)):\n",
    "    exec(\"model_%s = model(x0, t, v, A, L[i, :])\" % i)\n",
    "    string = \"model_\" + str(i) +\".train(\" + str(lr) + \",\" + str(itr) + \",True)\"\n",
    "    exec(string)\n",
    "    cost.append(exec(\"model_{0}.cost[{1},:]\".format(i,itr-1)))\n",
    "    cost_g.append(exec(\"model_{0}.cost_g[{1}]\".format(i,itr-1)))\n",
    "    rates.append(exec(\"model_{0}.rates[{1}]\".format(i,itr-1)))\n",
    "    rates_g.append(exec(\"model_{0}.rates_g[{1}]\".format(i,itr-1)))\n",
    "    f_grad.append(exec(\"model_{0}.f_grad[{1}]\".format(i,itr-1)))\n",
    "    f_grad_g.append(exec(\"model_{0}.f_grad_g[{1}]\".format(i,itr-1)))\n",
    "\n",
    "print(cost)\n",
    "fig, axs = plt.subplots(1,3)\n",
    "axs[0].plot(len(L), (cost), label='Cost')\n",
    "axs[0].plot(len(L), (cost_g), label='Cost_g')\n",
    "axs[1].plot(len(L), rates, label='Rate')\n",
    "axs[1].plot(len(L), rates_g, label='Rate_g')\n",
    "axs[2].plot(len(L), f_grad, label='grad')\n",
    "axs[2].plot(len(L), f_grad_g, label='grad_G')\n",
    "#axs[0].set_ylim([1, 1.5])\n",
    "for i in range(3):\n",
    "    #axs[i].set_xlim([0, itr])\n",
    "    axs[i].legend()"
   ]
  },
  {
   "cell_type": "code",
   "execution_count": 90,
   "metadata": {},
   "outputs": [
    {
     "ename": "AttributeError",
     "evalue": "'list' object has no attribute 'cost'",
     "output_type": "error",
     "traceback": [
      "\u001b[1;31m---------------------------------------------------------------------------\u001b[0m",
      "\u001b[1;31mAttributeError\u001b[0m                            Traceback (most recent call last)",
      "\u001b[1;32m<ipython-input-90-064d8acb4fe6>\u001b[0m in \u001b[0;36m<module>\u001b[1;34m\u001b[0m\n\u001b[0;32m      2\u001b[0m \u001b[0mitr\u001b[0m \u001b[1;33m=\u001b[0m \u001b[1;36m1\u001b[0m\u001b[1;33m\u001b[0m\u001b[1;33m\u001b[0m\u001b[0m\n\u001b[0;32m      3\u001b[0m \u001b[0mi\u001b[0m \u001b[1;33m=\u001b[0m \u001b[1;36m6\u001b[0m\u001b[1;33m\u001b[0m\u001b[1;33m\u001b[0m\u001b[0m\n\u001b[1;32m----> 4\u001b[1;33m \u001b[0mexec\u001b[0m\u001b[1;33m(\u001b[0m\u001b[1;34m\"model_{0}.cost[{1}]\"\u001b[0m\u001b[1;33m.\u001b[0m\u001b[0mformat\u001b[0m\u001b[1;33m(\u001b[0m\u001b[0mi\u001b[0m\u001b[1;33m,\u001b[0m \u001b[0mitr\u001b[0m\u001b[1;33m)\u001b[0m\u001b[1;33m)\u001b[0m\u001b[1;33m\u001b[0m\u001b[1;33m\u001b[0m\u001b[0m\n\u001b[0m",
      "\u001b[1;32m<string>\u001b[0m in \u001b[0;36m<module>\u001b[1;34m\u001b[0m\n",
      "\u001b[1;31mAttributeError\u001b[0m: 'list' object has no attribute 'cost'"
     ]
    }
   ],
   "source": [
    "model_6 = [1,2]\n",
    "itr = 1\n",
    "i = 6\n",
    "exec(\"model_{0}.cost[{1}]\".format(i, itr))"
   ]
  },
  {
   "cell_type": "code",
   "execution_count": 27,
   "metadata": {
    "scrolled": false
   },
   "outputs": [
    {
     "data": {
      "text/plain": [
       "array([[0.61995533, 0.69065368],\n",
       "       [0.61995534, 0.69065369],\n",
       "       [0.61995534, 0.6906537 ],\n",
       "       ...,\n",
       "       [0.61998688, 0.69068525],\n",
       "       [0.61998688, 0.69068526],\n",
       "       [0.61998689, 0.69068526]])"
      ]
     },
     "execution_count": 27,
     "metadata": {},
     "output_type": "execute_result"
    }
   ],
   "source": [
    "model.rates[245000:]"
   ]
  },
  {
   "cell_type": "code",
   "execution_count": 3,
   "metadata": {},
   "outputs": [],
   "source": [
    "def calc_grad(A, v, x, grad):\n",
    "    pre_grad = grad\n",
    "    for i in range(A.shape[0]):\n",
    "        j = 1-i\n",
    "        a = pre_grad[i,i] * (1 + A[i,i]*v[i]**2 *(1 - 2*x[i]) - A[i,j]*v[i]*v[j]*x[j])\n",
    "        b = pre_grad[i,j] * A[i,j]*v[i]*v[j]*(1-x[i])\n",
    "        c = 2*A[i,j]*v[i]*x[i] - 2*A[i,i]*v[i]*x[i]**2 + A[i,j]*v[j]*x[j] - A[i,j]*v[j]*x[i]*x[j]\n",
    "        grad[i, i] = a+b+c\n",
    "        a = pre_grad[i,j] * (1 + A[i,i]*v[i]**2 *(1 - 2*x[i]) - A[i,j]*v[i]*v[j]*x[j])\n",
    "        b = pre_grad[i,i]*A[i,j]*v[i]*v[j]*(1-x[i])\n",
    "        c = A[i,j]*v[i]*x[i] - A[i,j]*v[i]*x[i]*x[j]\n",
    "        grad[i, j] = a+b+c\n",
    "    return grad"
   ]
  },
  {
   "cell_type": "code",
   "execution_count": 56,
   "metadata": {},
   "outputs": [],
   "source": [
    "def func(v,x0,A,L,t):\n",
    "    rates = x0\n",
    "    grad = np.zeros(A.shape)\n",
    "    for i in range(1,t+1):\n",
    "        rates = rates + v*(1-rates)*(np.sum(A*v*rates, axis=1))\n",
    "        grad = calc_grad(A, v, rates, grad)\n",
    "    cost = rates*L + 1/v - 1\n",
    "    f_grad = np.diag(grad)*L - 1/(v**2)\n",
    "    return cost.tolist(), f_grad.tolist()"
   ]
  },
  {
   "cell_type": "code",
   "execution_count": 9,
   "metadata": {},
   "outputs": [
    {
     "name": "stdout",
     "output_type": "stream",
     "text": [
      "[2.36785184 1.58035263] [-10.9648603   -5.93505937]\n"
     ]
    }
   ],
   "source": [
    "a,b = func(v,x0,A,L,t)\n",
    "print(a, b)"
   ]
  },
  {
   "cell_type": "code",
   "execution_count": 57,
   "metadata": {},
   "outputs": [
    {
     "ename": "ValueError",
     "evalue": "tnc: invalid return value from minimized function.",
     "output_type": "error",
     "traceback": [
      "\u001b[1;31m---------------------------------------------------------------------------\u001b[0m",
      "\u001b[1;31mValueError\u001b[0m                                Traceback (most recent call last)",
      "\u001b[1;32m<ipython-input-57-57c736e1bd39>\u001b[0m in \u001b[0;36m<module>\u001b[1;34m\u001b[0m\n\u001b[1;32m----> 1\u001b[1;33m \u001b[0mfmin_tnc\u001b[0m\u001b[1;33m(\u001b[0m\u001b[0mfunc\u001b[0m\u001b[1;33m,\u001b[0m \u001b[0mv\u001b[0m\u001b[1;33m,\u001b[0m \u001b[0margs\u001b[0m \u001b[1;33m=\u001b[0m \u001b[1;33m[\u001b[0m\u001b[0mx0\u001b[0m\u001b[1;33m,\u001b[0m \u001b[0mA\u001b[0m\u001b[1;33m,\u001b[0m \u001b[0mL\u001b[0m\u001b[1;33m,\u001b[0m \u001b[0mt\u001b[0m\u001b[1;33m]\u001b[0m\u001b[1;33m)\u001b[0m\u001b[1;33m\u001b[0m\u001b[1;33m\u001b[0m\u001b[0m\n\u001b[0m",
      "\u001b[1;32mC:\\ProgramData\\Anaconda3\\lib\\site-packages\\scipy\\optimize\\tnc.py\u001b[0m in \u001b[0;36mfmin_tnc\u001b[1;34m(func, x0, fprime, args, approx_grad, bounds, epsilon, scale, offset, messages, maxCGit, maxfun, eta, stepmx, accuracy, fmin, ftol, xtol, pgtol, rescale, disp, callback)\u001b[0m\n\u001b[0;32m    274\u001b[0m             'disp': False}\n\u001b[0;32m    275\u001b[0m \u001b[1;33m\u001b[0m\u001b[0m\n\u001b[1;32m--> 276\u001b[1;33m     \u001b[0mres\u001b[0m \u001b[1;33m=\u001b[0m \u001b[0m_minimize_tnc\u001b[0m\u001b[1;33m(\u001b[0m\u001b[0mfun\u001b[0m\u001b[1;33m,\u001b[0m \u001b[0mx0\u001b[0m\u001b[1;33m,\u001b[0m \u001b[0margs\u001b[0m\u001b[1;33m,\u001b[0m \u001b[0mjac\u001b[0m\u001b[1;33m,\u001b[0m \u001b[0mbounds\u001b[0m\u001b[1;33m,\u001b[0m \u001b[0mcallback\u001b[0m\u001b[1;33m=\u001b[0m\u001b[0mcallback\u001b[0m\u001b[1;33m,\u001b[0m \u001b[1;33m**\u001b[0m\u001b[0mopts\u001b[0m\u001b[1;33m)\u001b[0m\u001b[1;33m\u001b[0m\u001b[1;33m\u001b[0m\u001b[0m\n\u001b[0m\u001b[0;32m    277\u001b[0m \u001b[1;33m\u001b[0m\u001b[0m\n\u001b[0;32m    278\u001b[0m     \u001b[1;32mreturn\u001b[0m \u001b[0mres\u001b[0m\u001b[1;33m[\u001b[0m\u001b[1;34m'x'\u001b[0m\u001b[1;33m]\u001b[0m\u001b[1;33m,\u001b[0m \u001b[0mres\u001b[0m\u001b[1;33m[\u001b[0m\u001b[1;34m'nfev'\u001b[0m\u001b[1;33m]\u001b[0m\u001b[1;33m,\u001b[0m \u001b[0mres\u001b[0m\u001b[1;33m[\u001b[0m\u001b[1;34m'status'\u001b[0m\u001b[1;33m]\u001b[0m\u001b[1;33m\u001b[0m\u001b[1;33m\u001b[0m\u001b[0m\n",
      "\u001b[1;32mC:\\ProgramData\\Anaconda3\\lib\\site-packages\\scipy\\optimize\\tnc.py\u001b[0m in \u001b[0;36m_minimize_tnc\u001b[1;34m(fun, x0, args, jac, bounds, eps, scale, offset, mesg_num, maxCGit, maxiter, eta, stepmx, accuracy, minfev, ftol, xtol, gtol, rescale, disp, callback, finite_diff_rel_step, maxfun, **unknown_options)\u001b[0m\n\u001b[0;32m    412\u001b[0m             \u001b[0mmaxfun\u001b[0m \u001b[1;33m=\u001b[0m \u001b[0mmax\u001b[0m\u001b[1;33m(\u001b[0m\u001b[1;36m100\u001b[0m\u001b[1;33m,\u001b[0m \u001b[1;36m10\u001b[0m\u001b[1;33m*\u001b[0m\u001b[0mlen\u001b[0m\u001b[1;33m(\u001b[0m\u001b[0mx0\u001b[0m\u001b[1;33m)\u001b[0m\u001b[1;33m)\u001b[0m\u001b[1;33m\u001b[0m\u001b[1;33m\u001b[0m\u001b[0m\n\u001b[0;32m    413\u001b[0m \u001b[1;33m\u001b[0m\u001b[0m\n\u001b[1;32m--> 414\u001b[1;33m     rc, nf, nit, x = moduleTNC.minimize(func_and_grad, x0, low, up, scale,\n\u001b[0m\u001b[0;32m    415\u001b[0m                                         \u001b[0moffset\u001b[0m\u001b[1;33m,\u001b[0m \u001b[0mmessages\u001b[0m\u001b[1;33m,\u001b[0m \u001b[0mmaxCGit\u001b[0m\u001b[1;33m,\u001b[0m \u001b[0mmaxfun\u001b[0m\u001b[1;33m,\u001b[0m\u001b[1;33m\u001b[0m\u001b[1;33m\u001b[0m\u001b[0m\n\u001b[0;32m    416\u001b[0m                                         \u001b[0meta\u001b[0m\u001b[1;33m,\u001b[0m \u001b[0mstepmx\u001b[0m\u001b[1;33m,\u001b[0m \u001b[0maccuracy\u001b[0m\u001b[1;33m,\u001b[0m \u001b[0mfmin\u001b[0m\u001b[1;33m,\u001b[0m \u001b[0mftol\u001b[0m\u001b[1;33m,\u001b[0m\u001b[1;33m\u001b[0m\u001b[1;33m\u001b[0m\u001b[0m\n",
      "\u001b[1;31mValueError\u001b[0m: tnc: invalid return value from minimized function."
     ]
    }
   ],
   "source": [
    "fmin_tnc(func, v, args = [x0, A, L, t])"
   ]
  },
  {
   "cell_type": "code",
   "execution_count": 10,
   "metadata": {},
   "outputs": [
    {
     "data": {
      "text/plain": [
       "0.35"
      ]
     },
     "execution_count": 10,
     "metadata": {},
     "output_type": "execute_result"
    }
   ],
   "source": [
    "np.mean(v)"
   ]
  },
  {
   "cell_type": "code",
   "execution_count": 353,
   "metadata": {},
   "outputs": [
    {
     "name": "stdout",
     "output_type": "stream",
     "text": [
      "[2.98645219 2.06507649]\n",
      "[-8.38127139 -3.93383085]\n"
     ]
    }
   ],
   "source": [
    "print(model.cost[itr-1])\n",
    "print(model.f_grad[itr-1])"
   ]
  },
  {
   "cell_type": "code",
   "execution_count": null,
   "metadata": {},
   "outputs": [],
   "source": [
    "def grad_ii(c_rate, t, v, A, i):\n",
    "    if t == 0:\n",
    "        return c_rate[0, i]\n",
    "    j = 1-i\n",
    "    a = grad_ii(c_rate, t-1, v, A, i) * (1 + A[i,i]*v[i]**2 *(1 - 2*c_rate[t,i]) - A[i,j]*v[i]*v[j]*c_rate[t,j])\n",
    "    b = grad_ij(c_rate, t-1, v, A, j) * A[i,j]*v[i]*v[j](1-c_rate[t,i])\n",
    "    c = 2*A[i,j]*v[i]c_rate[t,i] - 2*A[i,i]*v[i]*c_rate[t,i]**2 + A[i,j]*v[j]*c_rate[t,j] - A[i,j]*v[j]*c_rate[t,i]*c_rate[t,j]\n",
    "    grad = a+b+c\n",
    "    return grad\n",
    "\n",
    "def graf_ij(c_rate, t, v, A, i):\n",
    "    if t == 0:\n",
    "        return c_rate[0, i]\n",
    "    j = 1-i\n",
    "    a = grad_ij(c_rate, t-1, v, A, i) * (1 + A[i,i]*v[i]**2 *(1 - 2*c_rate[t,i]) - A[i,j]*v[i]*v[j]*c_rate[t,j])\n",
    "    b = grad_ii(c_rate, t-1, v, A, j)*A[i,j]*v[i]*v[j](1-c_rate[t,i])\n",
    "    c = A[i,j]*v[i]c_rate[t,i] - A[i,j]*v[i]*c_rate[t,i]*c_rate[t,j]\n",
    "    grad = a+b+c\n",
    "    return grad\n",
    "        "
   ]
  }
 ],
 "metadata": {
  "kernelspec": {
   "display_name": "Python 3",
   "language": "python",
   "name": "python3"
  },
  "language_info": {
   "codemirror_mode": {
    "name": "ipython",
    "version": 3
   },
   "file_extension": ".py",
   "mimetype": "text/x-python",
   "name": "python",
   "nbconvert_exporter": "python",
   "pygments_lexer": "ipython3",
   "version": "3.8.5"
  }
 },
 "nbformat": 4,
 "nbformat_minor": 4
}
