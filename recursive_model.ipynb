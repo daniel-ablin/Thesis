{
 "cells": [
  {
   "cell_type": "code",
   "execution_count": 304,
   "metadata": {},
   "outputs": [],
   "source": [
    "import numpy as np\n",
    "import matplotlib.pyplot as plt\n",
    "import tqdm"
   ]
  },
  {
   "cell_type": "code",
   "execution_count": 388,
   "metadata": {},
   "outputs": [],
   "source": [
    "class model(object):\n",
    "    def __init__(self, x0, t, v, A, L):\n",
    "        self.x0 = x0\n",
    "        self.t = t\n",
    "        self.v = v\n",
    "        self.A = A\n",
    "        self.L = L\n",
    "        \n",
    "    def calc_grad(self, Iter):\n",
    "        A = self.A\n",
    "        v = self.v\n",
    "        x = self.rates[Iter,:]\n",
    "        pre_grad = self.grad[Iter,:,:]\n",
    "        for i in range(A.shape[0]):\n",
    "            j = 1-i\n",
    "            a = pre_grad[i,i] * (1 + A[i,i]*v[i]**2 *(1 - 2*x[i]) - A[i,j]*v[i]*v[j]*x[j])\n",
    "            b = pre_grad[i,j] * A[i,j]*v[i]*v[j]*(1-x[i])\n",
    "            c = 2*A[i,j]*v[i]*x[i] - 2*A[i,i]*v[i]*x[i]**2 + A[i,j]*v[j]*x[j] - A[i,j]*v[j]*x[i]*x[j]\n",
    "            self.grad[Iter, i, i] = a+b+c\n",
    "            a = pre_grad[i,j] * (1 + A[i,i]*v[i]**2 *(1 - 2*x[i]) - A[i,j]*v[i]*v[j]*x[j])\n",
    "            b = pre_grad[i,i]*A[i,j]*v[i]*v[j]*(1-x[i])\n",
    "            c = A[i,j]*v[i]*x[i] - A[i,j]*v[i]*x[i]*x[j]\n",
    "            self.grad[Iter, i, j] = a+b+c\n",
    "\n",
    "    def iterate(self, Iter):\n",
    "        self.rates[Iter,:] = self.x0\n",
    "        self.grad[Iter,:,:] = 0\n",
    "        for i in range(1,self.t+1):\n",
    "            self.rates[Iter,:] = self.rates[Iter,:] + self.v*(1-self.rates[Iter,:])*(np.sum(self.A*self.v*self.rates[Iter,:], axis=1))\n",
    "            self.calc_grad(Iter)\n",
    "        self.cost[Iter,:] = self.rates[Iter,:]*self.L + 1/self.v - 1\n",
    "        self.f_grad[Iter, :] = np.diag(self.grad[Iter,:,:])*self.L - 1/(self.v**2)\n",
    "        \n",
    "    def train(self, lr, Iter):\n",
    "        self.rates = np.zeros((Iter, x0.shape[0]))\n",
    "        self.grad = np.zeros((Iter, A.shape[0], A.shape[1]))\n",
    "        self.f_grad = np.zeros((Iter, A.shape[0]))\n",
    "        self.cost = np.zeros((Iter, A.shape[0]))\n",
    "        for i in tqdm.tqdm(range(Iter)):\n",
    "            self.iterate(i)\n",
    "            self.v = self.v - lr*(self.f_grad[i,:])\n",
    "            self.v[self.v==0] = 1/np.exp(10)\n",
    "    "
   ]
  },
  {
   "cell_type": "code",
   "execution_count": 389,
   "metadata": {},
   "outputs": [],
   "source": [
    "x0 = np.array([0.0001,0.1])\n",
    "t = 150\n",
    "v = np.array([0.3,0.4])\n",
    "A = np.array([[0.1,0.2],[0.3,0.1]])\n",
    "beta = 0.1\n",
    "A = A*beta\n",
    "L = np.array([0.8, 0.6])\n",
    "#temp = contagion_rate(x0, t, v, A)"
   ]
  },
  {
   "cell_type": "code",
   "execution_count": 390,
   "metadata": {},
   "outputs": [],
   "source": [
    "model = model(x0,t,v,A,L)\n",
    "itr = 50000"
   ]
  },
  {
   "cell_type": "code",
   "execution_count": 391,
   "metadata": {
    "scrolled": true
   },
   "outputs": [
    {
     "name": "stderr",
     "output_type": "stream",
     "text": [
      "100%|████████████████████████████████████████████████████████████████████████████| 50000/50000 [09:28<00:00, 87.91it/s]\n"
     ]
    }
   ],
   "source": [
    "model.train(0.00001,itr)\n",
    "base_v = model.v.copy()\n",
    "base_cost = model.cost[itr-1].copy()"
   ]
  },
  {
   "cell_type": "code",
   "execution_count": 392,
   "metadata": {
    "scrolled": true
   },
   "outputs": [
    {
     "name": "stdout",
     "output_type": "stream",
     "text": [
      "[0.86461188 0.76968935]\n"
     ]
    },
    {
     "data": {
      "text/plain": [
       "array([0.59994462, 0.67629418])"
      ]
     },
     "execution_count": 392,
     "metadata": {},
     "output_type": "execute_result"
    },
    {
     "data": {
      "image/png": "[encoded data removed]",
      "text/plain": [
       "<Figure size 432x288 with 2 Axes>"
      ]
     },
     "metadata": {
      "needs_background": "light"
     },
     "output_type": "display_data"
    }
   ],
   "source": [
    "fig, axs = plt.subplots(1,2)\n",
    "axs[0].plot(range(itr), model.cost, label='Cost')\n",
    "axs[1].plot(range(itr), model.rates, label='Rate')\n",
    "print(model.v)\n",
    "model.cost[itr-1]"
   ]
  },
  {
   "cell_type": "code",
   "execution_count": 352,
   "metadata": {},
   "outputs": [],
   "source": [
    "epsilon = np.array([0,0.1])\n",
    "up_v = base_v + epsilon\n",
    "down_v = base_v - epsilon\n",
    "model.v = up_v\n",
    "model.iterate(299)"
   ]
  },
  {
   "cell_type": "code",
   "execution_count": 353,
   "metadata": {},
   "outputs": [
    {
     "name": "stdout",
     "output_type": "stream",
     "text": [
      "[2.98645219 2.06507649]\n",
      "[-8.38127139 -3.93383085]\n"
     ]
    }
   ],
   "source": [
    "print(model.cost[itr-1])\n",
    "print(model.f_grad[itr-1])"
   ]
  },
  {
   "cell_type": "code",
   "execution_count": 338,
   "metadata": {},
   "outputs": [
    {
     "data": {
      "text/plain": [
       "0"
      ]
     },
     "execution_count": 338,
     "metadata": {},
     "output_type": "execute_result"
    }
   ],
   "source": [
    "2000%1000"
   ]
  },
  {
   "cell_type": "code",
   "execution_count": null,
   "metadata": {},
   "outputs": [],
   "source": [
    "def grad_ii(c_rate, t, v, A, i):\n",
    "    if t == 0:\n",
    "        return c_rate[0, i]\n",
    "    j = 1-i\n",
    "    a = grad_ii(c_rate, t-1, v, A, i) * (1 + A[i,i]*v[i]**2 *(1 - 2*c_rate[t,i]) - A[i,j]*v[i]*v[j]*c_rate[t,j])\n",
    "    b = grad_ij(c_rate, t-1, v, A, j) * A[i,j]*v[i]*v[j](1-c_rate[t,i])\n",
    "    c = 2*A[i,j]*v[i]c_rate[t,i] - 2*A[i,i]*v[i]*c_rate[t,i]**2 + A[i,j]*v[j]*c_rate[t,j] - A[i,j]*v[j]*c_rate[t,i]*c_rate[t,j]\n",
    "    grad = a+b+c\n",
    "    return grad\n",
    "\n",
    "def graf_ij(c_rate, t, v, A, i):\n",
    "    if t == 0:\n",
    "        return c_rate[0, i]\n",
    "    j = 1-i\n",
    "    a = grad_ij(c_rate, t-1, v, A, i) * (1 + A[i,i]*v[i]**2 *(1 - 2*c_rate[t,i]) - A[i,j]*v[i]*v[j]*c_rate[t,j])\n",
    "    b = grad_ii(c_rate, t-1, v, A, j)*A[i,j]*v[i]*v[j](1-c_rate[t,i])\n",
    "    c = A[i,j]*v[i]c_rate[t,i] - A[i,j]*v[i]*c_rate[t,i]*c_rate[t,j]\n",
    "    grad = a+b+c\n",
    "    return grad\n",
    "        "
   ]
  },
  {
   "cell_type": "code",
   "execution_count": 17,
   "metadata": {},
   "outputs": [],
   "source": [
    "class model(object):\n",
    "    def __init__(self, x0, t, v, A):\n",
    "        self.x0 = x0\n",
    "        self.t = t\n",
    "        self.v = v\n",
    "        self.A = A\n",
    "        self.rates = np.zeros((t+1, x0.shape[0]))\n",
    "        self.grad = np.zeros((t+1, A.shape[0], A.shape[1]))\n",
    "    '''        \n",
    "    def rec_grad_ii(self, c_rate, t, v, A, i):\n",
    "        j = 1-i\n",
    "        if t == 0:\n",
    "            grad = c_rate[0, i]\n",
    "        else:\n",
    "            a = rec_grad_ii(c_rate, t-1, v, A, i) * (1 + A[i,i]*v[i]**2 *(1 - 2*c_rate[t,i]) - A[i,j]*v[i]*v[j]*c_rate[t,j])\n",
    "            b = rec_grad_ij(c_rate, t-1, v, A, j) * A[i,j]*v[i]*v[j](1-c_rate[t,i])\n",
    "            c = 2*A[i,j]*v[i]c_rate[t,i] - 2*A[i,i]*v[i]*c_rate[t,i]**2 + A[i,j]*v[j]*c_rate[t,j] - A[i,j]*v[j]*c_rate[t,i]*c_rate[t,j]\n",
    "            grad = a+b+c\n",
    "        self.grad[t,i,]\n",
    "        return grad\n",
    "\n",
    "    def rec_graf_ij(self ,c_rate, t, v, A, i):\n",
    "        if t == 0:\n",
    "            return c_rate[0, i]\n",
    "        j = 1-i\n",
    "        a = rec_grad_ij(c_rate, t-1, v, A, i) * (1 + A[i,i]*v[i]**2 *(1 - 2*c_rate[t,i]) - A[i,j]*v[i]*v[j]*c_rate[t,j])\n",
    "        b = rec_grad_ii(c_rate, t-1, v, A, j)*A[i,j]*v[i]*v[j](1-c_rate[t,i])\n",
    "        c = A[i,j]*v[i]c_rate[t,i] - A[i,j]*v[i]*c_rate[t,i]*c_rate[t,j]\n",
    "        grad = a+b+c\n",
    "        return grad\n",
    "    '''    \n",
    "    def calc_grad(self, t):\n",
    "        A = self.A\n",
    "        v = self.v\n",
    "        x = self.rates[t,:]\n",
    "        pre_grad = self.grad[t-1,:,:]\n",
    "        for i in range(A.shape[0]):\n",
    "            j = 1-i\n",
    "            a = pre_grad[i,i] * (1 + A[i,i]*v[i]**2 *(1 - 2*x[i]) - A[i,j]*v[i]*v[j]*x[j])\n",
    "            b = pre_grad[i,j] * A[i,j]*v[i]*v[j]*(1-x[i])\n",
    "            c = 2*A[i,j]*v[i]*x[i] - 2*A[i,i]*v[i]*x[i]**2 + A[i,j]*v[j]*x[j] - A[i,j]*v[j]*x[i]*x[j]\n",
    "            self.grad[t, i, i] = a+b+c\n",
    "            a = pre_grad[i,j] * (1 + A[i,i]*v[i]**2 *(1 - 2*x[i]) - A[i,j]*v[i]*v[j]*x[j])\n",
    "            b = pre_grad[i,i]*A[i,j]*v[i]*v[j]*(1-x[i])\n",
    "            c = A[i,j]*v[i]*x[i] - A[i,j]*v[i]*x[i]*x[j]\n",
    "            self.grad[t, i, j] = a+b+c\n",
    "        self.v[self.v==0] = 1/np.exp(10)\n",
    "        self.f_grad = np.diag(self.grad[t]) + 1/self.v-1\n",
    "\n",
    "    def iterate(self):\n",
    "        self.rates[0,:] = self.x0\n",
    "        self.grad[0,:,:] = 0\n",
    "        print(self.v)\n",
    "        for i in range(1,t+1):\n",
    "            self.rates[i,:] = self.rates[i-1,:] + self.v*(1-self.rates[i-1,:])*(np.sum(self.A*self.v*self.rates[i-1,:], axis=1))\n",
    "            self.calc_grad(i)\n",
    "            \n",
    "    def train(self, lr, i):\n",
    "        for j in range(i):\n",
    "            self.iterate()\n",
    "            self.v = self.v - lr*(self.f_grad)\n",
    "    \n",
    "        \n",
    "\n",
    "fig, axs = plt.subplots(1,2)\n",
    "axs[0].plot(range(300), model.cost, label='Cost')\n",
    "axs[1].plot(range(300), model.rates, label='Rate')\n",
    "base_v = model.v"
   ]
  },
  {
   "cell_type": "code",
   "execution_count": 22,
   "metadata": {},
   "outputs": [],
   "source": [
    "def func(i):\n",
    "    for j in range(i):\n",
    "        test = test + [i]"
   ]
  },
  {
   "cell_type": "code",
   "execution_count": 16,
   "metadata": {},
   "outputs": [
    {
     "data": {
      "text/plain": [
       "148.4131591025766"
      ]
     },
     "execution_count": 16,
     "metadata": {},
     "output_type": "execute_result"
    }
   ],
   "source": [
    "np.exp(5)"
   ]
  }
 ],
 "metadata": {
  "kernelspec": {
   "display_name": "Python 3",
   "language": "python",
   "name": "python3"
  },
  "language_info": {
   "codemirror_mode": {
    "name": "ipython",
    "version": 3
   },
   "file_extension": ".py",
   "mimetype": "text/x-python",
   "name": "python",
   "nbconvert_exporter": "python",
   "pygments_lexer": "ipython3",
   "version": "3.8.5"
  }
 },
 "nbformat": 4,
 "nbformat_minor": 4
}
